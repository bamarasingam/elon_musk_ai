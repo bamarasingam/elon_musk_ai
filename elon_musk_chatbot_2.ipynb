{
 "cells": [
  {
   "cell_type": "code",
   "execution_count": 8,
   "metadata": {},
   "outputs": [],
   "source": [
    "import requests\n",
    "import json\n",
    "import os\n",
    "from dotenv import load_dotenv\n",
    "import numpy as np\n",
    "from sentence_transformers import SentenceTransformer\n",
    "from transformers import MarianMTModel, MarianTokenizer\n",
    "import faiss\n",
    "from groq import Groq\n"
   ]
  },
  {
   "cell_type": "code",
   "execution_count": 2,
   "metadata": {},
   "outputs": [],
   "source": [
    "# Load environment variables\n",
    "load_dotenv()\n",
    "\n",
    "# Groq API setup\n",
    "GROQ_API = os.getenv(\"GROQ_API\")"
   ]
  },
  {
   "cell_type": "code",
   "execution_count": 13,
   "metadata": {},
   "outputs": [],
   "source": [
    "# Function to get response from Groq\n",
    "def get_groq_response(prompt):\n",
    "    client = Groq(\n",
    "        api_key=GROQ_API,\n",
    "    )\n",
    "\n",
    "    chat_completion = client.chat.completions.create(\n",
    "        messages=[\n",
    "            {\n",
    "                \"role\": \"user\",\n",
    "                \"content\": prompt,\n",
    "            }\n",
    "        ],\n",
    "        model=\"llama3-8b-8192\",\n",
    "    )\n",
    "\n",
    "    print(chat_completion.choices[0].message.content)"
   ]
  },
  {
   "cell_type": "code",
   "execution_count": 14,
   "metadata": {},
   "outputs": [
    {
     "name": "stdout",
     "output_type": "stream",
     "text": [
      "The National Basketball Association (NBA) is a professional sports organization that is home to the best basketball players in the world. It is the top-tier level of professional basketball in North America, comprising 30 teams from the United States and Canada. The NBA is considered one of the most popular professional sports leagues globally, with millions of fans worldwide.\n",
      "\n",
      "Here are some key facts about the NBA:\n",
      "\n",
      "1. **History**: The NBA was founded in 1946 as the Basketball Association of America (BAA). It merged with the National Basketball League (NBL) in 1949 to form the modern NBA.\n",
      "2. **Season**: The NBA season typically runs from October to April, consisting of 82 games per team. The regular season is followed by the NBA playoffs, which culminate in the NBA Finals.\n",
      "3. **Teams**: The league is divided into two conferences: the Eastern Conference and the Western Conference. There are three divisions within each conference, with five teams in each division.\n",
      "4. **Players**: The NBA is home to some of the greatest basketball players of all time, including Magic Johnson, Michael Jordan, LeBron James, Steph Curry, and Kobe Bryant. Players can join the league through various routes, including the NBA draft, free agency, or trades.\n",
      "5. **Rules**: The NBA follows a set of rules, including:\n",
      "\t* Four quarters, each lasting 12 minutes in professional games and 16 minutes in college and high school games.\n",
      "\t* A shot clock of 24 seconds in professional games and 30 seconds in college and high school games.\n",
      "\t* Foul limits, including personal fouls and technical fouls.\n",
      "\t* Three-point lines, which are 23 feet 9 inches from the basket in professional games and 20 feet 9 inches in college and high school games.\n",
      "6. **Awards**: The NBA recognizes outstanding players and coaches with various awards, including:\n",
      "\t* The NBA Most Valuable Player (MVP) award.\n",
      "\t* The Rookie of the Year award.\n",
      "\t* The Defensive Player of the Year award.\n",
      "\t* The NBA Coach of the Year award.\n",
      "7. **Global Reach**: The NBA has a significant following globally, with games broadcast in over 200 countries and territories. The league has also established relationships with international teams and leagues, including the EuroLeague and the Chinese Basketball Association.\n",
      "\n",
      "Overall, the NBA is a premier professional sports league that showcases the world's best basketball players, coaches, and teams, entertaining millions of fans worldwide.\n"
     ]
    }
   ],
   "source": [
    "# Example usage\n",
    "prompt = \"What is the NBA\"\n",
    "get_groq_response(prompt)"
   ]
  },
  {
   "cell_type": "code",
   "execution_count": 17,
   "metadata": {},
   "outputs": [
    {
     "name": "stderr",
     "output_type": "stream",
     "text": [
      "/Users/brandonamarasingam/anaconda3/envs/pytorch/lib/python3.11/site-packages/transformers/tokenization_utils_base.py:1601: FutureWarning: `clean_up_tokenization_spaces` was not set. It will be set to `True` by default. This behavior will be depracted in transformers v4.45, and will be then set to `False` by default. For more details check this issue: https://github.com/huggingface/transformers/issues/31884\n",
      "  warnings.warn(\n",
      "/Users/brandonamarasingam/anaconda3/envs/pytorch/lib/python3.11/site-packages/transformers/data/datasets/language_modeling.py:53: FutureWarning: This dataset will be removed from the library soon, preprocessing should be handled with the 🤗 Datasets library. You can have a look at this example script for pointers: https://github.com/huggingface/transformers/blob/main/examples/pytorch/language-modeling/run_mlm.py\n",
      "  warnings.warn(\n"
     ]
    },
    {
     "data": {
      "application/vnd.jupyter.widget-view+json": {
       "model_id": "dbad224ad5ea409db1fde0d318bc8aaa",
       "version_major": 2,
       "version_minor": 0
      },
      "text/plain": [
       "  0%|          | 0/1266 [00:00<?, ?it/s]"
      ]
     },
     "metadata": {},
     "output_type": "display_data"
    },
    {
     "name": "stdout",
     "output_type": "stream",
     "text": [
      "{'loss': 0.0, 'grad_norm': nan, 'learning_rate': 3.0252764612954187e-05, 'epoch': 1.18}\n",
      "{'loss': 0.0, 'grad_norm': nan, 'learning_rate': 1.0505529225908373e-05, 'epoch': 2.37}\n",
      "{'train_runtime': 2067.8996, 'train_samples_per_second': 2.445, 'train_steps_per_second': 0.612, 'train_loss': 0.0, 'epoch': 3.0}\n",
      "Model and tokenizer saved to ./elon_gpt2\n"
     ]
    }
   ],
   "source": [
    "import json\n",
    "from transformers import GPT2LMHeadModel, GPT2Tokenizer, TextDataset, DataCollatorForLanguageModeling\n",
    "from transformers import Trainer, TrainingArguments\n",
    "\n",
    "# Load and preprocess data\n",
    "with open('speech_total.json', 'r') as f:\n",
    "    data = json.load(f)\n",
    "\n",
    "# Assume 'data' is a list of Elon Musk's sentences\n",
    "text = \"\\n\".join(data)\n",
    "\n",
    "# Save preprocessed data to a file\n",
    "with open('elon_data.txt', 'w') as f:\n",
    "    f.write(text)\n",
    "\n",
    "# Load pre-trained model and tokenizer\n",
    "model = GPT2LMHeadModel.from_pretrained('gpt2')\n",
    "tokenizer = GPT2Tokenizer.from_pretrained('gpt2')\n",
    "\n",
    "# Prepare dataset\n",
    "dataset = TextDataset(\n",
    "    tokenizer=tokenizer,\n",
    "    file_path='elon_data.txt',\n",
    "    block_size=128\n",
    ")\n",
    "\n",
    "data_collator = DataCollatorForLanguageModeling(\n",
    "    tokenizer=tokenizer,\n",
    "    mlm=False\n",
    ")\n",
    "\n",
    "# Set up training arguments\n",
    "training_args = TrainingArguments(\n",
    "    output_dir=\"./elon_gpt2\",\n",
    "    overwrite_output_dir=True,\n",
    "    num_train_epochs=3,\n",
    "    per_device_train_batch_size=4,\n",
    "    save_steps=10_000,\n",
    "    save_total_limit=2,\n",
    ")\n",
    "\n",
    "# Initialize Trainer\n",
    "trainer = Trainer(\n",
    "    model=model,\n",
    "    args=training_args,\n",
    "    data_collator=data_collator,\n",
    "    train_dataset=dataset,\n",
    ")\n",
    "\n",
    "# Start fine-tuning\n",
    "trainer.train()\n",
    "\n",
    "# Save the fine-tuned model and tokenizer\n",
    "model_path = \"./elon_gpt2\"\n",
    "trainer.save_model()\n",
    "tokenizer.save_pretrained(model_path)  # Explicitly save the tokenizer\n",
    "\n",
    "print(f\"Model and tokenizer saved to {model_path}\")"
   ]
  },
  {
   "cell_type": "code",
   "execution_count": 22,
   "metadata": {},
   "outputs": [
    {
     "name": "stdout",
     "output_type": "stream",
     "text": [
      "Successfully loaded the fine-tuned model and tokenizer.\n"
     ]
    },
    {
     "name": "stderr",
     "output_type": "stream",
     "text": [
      "The attention mask and the pad token id were not set. As a consequence, you may observe unexpected behavior. Please pass your input's `attention_mask` to obtain reliable results.\n",
      "Setting `pad_token_id` to `eos_token_id`:50256 for open-end generation.\n"
     ]
    },
    {
     "name": "stdout",
     "output_type": "stream",
     "text": [
      "The National Basketball Association (NBA) is the premier professional basketball league in the world. It is composed of 30 teams from the United States and Canada, and is widely considered to be one of the most competitive and popular professional sports leagues globally.\n",
      "\n",
      "The NBA was founded in 1946 as the Basketball Association of America (BAA), and it merged with the National Basketball League (NBL) in 1949 to form the modern NBA. The league has since grown to become one of the most watched and followed sports leagues in the world.\n",
      "\n",
      "Here are some key facts about the NBA:\n",
      "\n",
      "1. Number of teams: 30 teams, divided into two conferences: Eastern Conference (15 teams) and Western Conference (15 teams).\n",
      "2. Players: The league consists of professional basketball players from around the world, with many coming from the United States, Canada, and Africa.\n",
      "3. Schedule: The regular season typically runs from October to April, with each team playing 82 games.\n",
      "4. Playoffs: The top teams from each conference compete in the NBA Playoffs, with the goal of winning the NBA championship.\n",
      "5. Finals: The NBA Finals is the championship series played between the winners of the Eastern and Western Conference playoffs.\n",
      "6. Governing body: The NBA is governed by the National Basketball Association Board of Governors, with Adam Silver serving as the commissioner.\n",
      "7. Branding: The NBA is recognized by its iconic logo, known as the \"Jerry West\" logo, which features a silhouette of Hall of Famer Jerry West.\n",
      "8. Games: NBA games are played on a rectangular court with a basketball hoop at each end, featuring a 10-foot high hoop and a 15-foot diameter backboard.\n",
      "9. Scoring: Points can be scored in several ways, including field goals (2 or 3 points), free throws (1 point), and three-pointers (3 points).\n",
      "10. Global reach: The NBA has a huge global following, with games broadcast in over 200 countries and territories, and with many players hailing from outside the United States.\n",
      "\n",
      "Some of the most iconic teams in the NBA include the Boston Celtics, Los Angeles Lakers, Chicago Bulls, Golden State Warriors, and Philadelphia 76ers.\n",
      "\n",
      "The NBA is known for its excitement, athleticism, and entertainment, with many fans attending games in person or watching on television.\n",
      "Error: No response received from Groq API.\n",
      "Original response: Space exploration is fascinating.\n",
      "Elon-style response: Space exploration is fascinating. In Elon Musk's style:!!!!!!!!!!!!!!!!!!!!!!!!!!!!!!!!!!!!!!!!!!!!!!!!!!!!!!!!!!!!!!!!!!!!!!!!!!!!!!!!!!!!!!!!\n"
     ]
    }
   ],
   "source": [
    "from transformers import GPT2LMHeadModel, GPT2Tokenizer\n",
    "import torch\n",
    "\n",
    "def rephrase_as_elon(text, model, tokenizer):\n",
    "    if text is None or text.strip() == \"\":\n",
    "        return \"I couldn't get a response to rephrase. Let's talk about Mars instead!\"\n",
    "    \n",
    "    input_ids = tokenizer.encode(text + \" In Elon Musk's style: \", return_tensors='pt')\n",
    "    with torch.no_grad():\n",
    "        output = model.generate(input_ids, max_length=100, num_return_sequences=1, temperature=0.7)\n",
    "    return tokenizer.decode(output[0], skip_special_tokens=True)\n",
    "\n",
    "# Load your fine-tuned model and tokenizer\n",
    "model_path = \"./elon_gpt2\"\n",
    "try:\n",
    "    model = GPT2LMHeadModel.from_pretrained(model_path)\n",
    "    tokenizer = GPT2Tokenizer.from_pretrained(model_path)\n",
    "    print(\"Successfully loaded the fine-tuned model and tokenizer.\")\n",
    "except Exception as e:\n",
    "    print(f\"Error loading fine-tuned model or tokenizer: {e}\")\n",
    "    print(\"Falling back to default GPT-2 model and tokenizer.\")\n",
    "    model = GPT2LMHeadModel.from_pretrained('gpt2')\n",
    "    tokenizer = GPT2Tokenizer.from_pretrained('gpt2')\n",
    "\n",
    "# Get response from Groq API\n",
    "prompt = \"What is the NBA?\"\n",
    "groq_response = get_groq_response(prompt)\n",
    "\n",
    "if groq_response is None or groq_response.strip() == \"\":\n",
    "    print(\"Error: No response received from Groq API.\")\n",
    "    groq_response = \"Space exploration is fascinating.\"  # Fallback response\n",
    "\n",
    "# Rephrase the response\n",
    "elon_style_response = rephrase_as_elon(groq_response, model, tokenizer)\n",
    "\n",
    "print(\"Original response:\", groq_response)\n",
    "print(\"Elon-style response:\", elon_style_response)"
   ]
  },
  {
   "cell_type": "code",
   "execution_count": null,
   "metadata": {},
   "outputs": [],
   "source": []
  }
 ],
 "metadata": {
  "kernelspec": {
   "display_name": "pytorch",
   "language": "python",
   "name": "python3"
  },
  "language_info": {
   "codemirror_mode": {
    "name": "ipython",
    "version": 3
   },
   "file_extension": ".py",
   "mimetype": "text/x-python",
   "name": "python",
   "nbconvert_exporter": "python",
   "pygments_lexer": "ipython3",
   "version": "3.11.5"
  }
 },
 "nbformat": 4,
 "nbformat_minor": 2
}
