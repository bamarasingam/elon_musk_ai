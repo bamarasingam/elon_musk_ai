{
 "cells": [
  {
   "cell_type": "code",
   "execution_count": 8,
   "metadata": {},
   "outputs": [],
   "source": [
    "import requests\n",
    "import json\n",
    "import os\n",
    "from dotenv import load_dotenv\n",
    "import numpy as np\n",
    "from sentence_transformers import SentenceTransformer\n",
    "from transformers import MarianMTModel, MarianTokenizer\n",
    "import faiss\n",
    "from groq import Groq\n"
   ]
  },
  {
   "cell_type": "code",
   "execution_count": 2,
   "metadata": {},
   "outputs": [],
   "source": [
    "# Load environment variables\n",
    "load_dotenv()\n",
    "\n",
    "# Groq API setup\n",
    "GROQ_API = os.getenv(\"GROQ_API\")"
   ]
  },
  {
   "cell_type": "code",
   "execution_count": 13,
   "metadata": {},
   "outputs": [],
   "source": [
    "# Function to get response from Groq\n",
    "def get_groq_response(prompt):\n",
    "    client = Groq(\n",
    "        api_key=GROQ_API,\n",
    "    )\n",
    "\n",
    "    chat_completion = client.chat.completions.create(\n",
    "        messages=[\n",
    "            {\n",
    "                \"role\": \"user\",\n",
    "                \"content\": prompt,\n",
    "            }\n",
    "        ],\n",
    "        model=\"llama3-8b-8192\",\n",
    "    )\n",
    "\n",
    "    print(chat_completion.choices[0].message.content)"
   ]
  },
  {
   "cell_type": "code",
   "execution_count": 14,
   "metadata": {},
   "outputs": [
    {
     "name": "stdout",
     "output_type": "stream",
     "text": [
      "The National Basketball Association (NBA) is a professional sports organization that is home to the best basketball players in the world. It is the top-tier level of professional basketball in North America, comprising 30 teams from the United States and Canada. The NBA is considered one of the most popular professional sports leagues globally, with millions of fans worldwide.\n",
      "\n",
      "Here are some key facts about the NBA:\n",
      "\n",
      "1. **History**: The NBA was founded in 1946 as the Basketball Association of America (BAA). It merged with the National Basketball League (NBL) in 1949 to form the modern NBA.\n",
      "2. **Season**: The NBA season typically runs from October to April, consisting of 82 games per team. The regular season is followed by the NBA playoffs, which culminate in the NBA Finals.\n",
      "3. **Teams**: The league is divided into two conferences: the Eastern Conference and the Western Conference. There are three divisions within each conference, with five teams in each division.\n",
      "4. **Players**: The NBA is home to some of the greatest basketball players of all time, including Magic Johnson, Michael Jordan, LeBron James, Steph Curry, and Kobe Bryant. Players can join the league through various routes, including the NBA draft, free agency, or trades.\n",
      "5. **Rules**: The NBA follows a set of rules, including:\n",
      "\t* Four quarters, each lasting 12 minutes in professional games and 16 minutes in college and high school games.\n",
      "\t* A shot clock of 24 seconds in professional games and 30 seconds in college and high school games.\n",
      "\t* Foul limits, including personal fouls and technical fouls.\n",
      "\t* Three-point lines, which are 23 feet 9 inches from the basket in professional games and 20 feet 9 inches in college and high school games.\n",
      "6. **Awards**: The NBA recognizes outstanding players and coaches with various awards, including:\n",
      "\t* The NBA Most Valuable Player (MVP) award.\n",
      "\t* The Rookie of the Year award.\n",
      "\t* The Defensive Player of the Year award.\n",
      "\t* The NBA Coach of the Year award.\n",
      "7. **Global Reach**: The NBA has a significant following globally, with games broadcast in over 200 countries and territories. The league has also established relationships with international teams and leagues, including the EuroLeague and the Chinese Basketball Association.\n",
      "\n",
      "Overall, the NBA is a premier professional sports league that showcases the world's best basketball players, coaches, and teams, entertaining millions of fans worldwide.\n"
     ]
    }
   ],
   "source": [
    "# Example usage\n",
    "prompt = \"What is the NBA\"\n",
    "get_groq_response(prompt)"
   ]
  },
  {
   "cell_type": "code",
   "execution_count": null,
   "metadata": {},
   "outputs": [],
   "source": []
  }
 ],
 "metadata": {
  "kernelspec": {
   "display_name": "pytorch",
   "language": "python",
   "name": "python3"
  },
  "language_info": {
   "codemirror_mode": {
    "name": "ipython",
    "version": 3
   },
   "file_extension": ".py",
   "mimetype": "text/x-python",
   "name": "python",
   "nbconvert_exporter": "python",
   "pygments_lexer": "ipython3",
   "version": "3.11.5"
  }
 },
 "nbformat": 4,
 "nbformat_minor": 2
}
