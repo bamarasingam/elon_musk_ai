{
 "cells": [
  {
   "cell_type": "code",
   "execution_count": 5,
   "metadata": {},
   "outputs": [
    {
     "name": "stdout",
     "output_type": "stream",
     "text": [
      "True\n"
     ]
    }
   ],
   "source": [
    "print(os.path.exists(chromedriver_path))"
   ]
  },
  {
   "cell_type": "code",
   "execution_count": 6,
   "metadata": {},
   "outputs": [
    {
     "name": "stdout",
     "output_type": "stream",
     "text": [
      "Successfully fetched the webpage content.\n",
      "Content length: 30122 characters\n"
     ]
    }
   ],
   "source": [
    "def fetch_webpage(url):\n",
    "    try:\n",
    "        response = requests.get(url)\n",
    "        response.raise_for_status()  # Raises an HTTPError for bad responses\n",
    "        return response.text\n",
    "    except requests.RequestException as e:\n",
    "        print(f\"An error occurred: {e}\")\n",
    "        return None\n",
    "\n",
    "# Replace with your actual URL\n",
    "url = \"https://turboscribe.ai/transcript/share/4422534834081521519/HWE18owsC2u8E5u2HpZNikyBdermlV2YSwGlTEPKJJw/donald-trump-and-elon-musk-full-transcript-august-12-2024-https-x-com-i-spaces-1nakepnklwoxl\"\n",
    "\n",
    "content = fetch_webpage(url)\n",
    "if content:\n",
    "    print(\"Successfully fetched the webpage content.\")\n",
    "    print(f\"Content length: {len(content)} characters\")\n",
    "    # You can now process this content further\n",
    "else:\n",
    "    print(\"Failed to fetch the webpage content.\")"
   ]
  },
  {
   "cell_type": "code",
   "execution_count": 9,
   "metadata": {},
   "outputs": [
    {
     "name": "stdout",
     "output_type": "stream",
     "text": [
      "First 1000 characters of the page content:\n",
      "turboscribe.ai\n",
      "Verify you are human by completing the action below.\n",
      "turboscribe.ai needs to review the security of your connection before proceeding.\n",
      "Ray ID: 8b7e0022c9d7a202\n",
      "Performance & security by Cloudflare\n",
      "\n",
      "Number of lines mentioning Elon Musk: 0\n",
      "First few mentions of Elon Musk:\n"
     ]
    }
   ],
   "source": [
    "from selenium import webdriver\n",
    "from selenium.webdriver.chrome.service import Service\n",
    "from selenium.webdriver.chrome.options import Options\n",
    "from selenium.webdriver.common.by import By\n",
    "from selenium.webdriver.support.ui import WebDriverWait\n",
    "from selenium.webdriver.support import expected_conditions as EC\n",
    "import time\n",
    "\n",
    "# Setup\n",
    "chromedriver_path = '/Users/brandonamarasingam/Desktop/WebDrivers/chromedriver-mac-arm64/chromedriver'\n",
    "chrome_options = Options()\n",
    "chrome_options.add_argument(\"--headless\")\n",
    "service = Service(chromedriver_path)\n",
    "driver = webdriver.Chrome(service=service, options=chrome_options)\n",
    "\n",
    "# Navigate to the page\n",
    "url = \"https://turboscribe.ai/transcript/share/4422534834081521519/HWE18owsC2u8E5u2HpZNikyBdermlV2YSwGlTEPKJJw/donald-trump-and-elon-musk-full-transcript-august-12-2024-https-x-com-i-spaces-1nakepnklwoxl\"\n",
    "driver.get(url)\n",
    "\n",
    "# Wait for the page to load\n",
    "time.sleep(10)  # Waiting for 10 seconds\n",
    "\n",
    "# Get all text from the page\n",
    "page_text = driver.find_element(By.TAG_NAME, 'body').text\n",
    "\n",
    "# Print the first 1000 characters of the text\n",
    "print(\"First 1000 characters of the page content:\")\n",
    "print(page_text[:1000])\n",
    "\n",
    "# Check for Elon Musk mentions\n",
    "elon_musk_mentions = [line for line in page_text.split('\\n') if 'Elon Musk' in line]\n",
    "\n",
    "print(f\"\\nNumber of lines mentioning Elon Musk: {len(elon_musk_mentions)}\")\n",
    "print(\"First few mentions of Elon Musk:\")\n",
    "for mention in elon_musk_mentions[:5]:\n",
    "    print(mention)\n",
    "\n",
    "# Close the browser\n",
    "driver.quit()"
   ]
  },
  {
   "cell_type": "code",
   "execution_count": null,
   "metadata": {},
   "outputs": [],
   "source": []
  }
 ],
 "metadata": {
  "kernelspec": {
   "display_name": "Python 3 (ipykernel)",
   "language": "python",
   "name": "python3"
  },
  "language_info": {
   "codemirror_mode": {
    "name": "ipython",
    "version": 3
   },
   "file_extension": ".py",
   "mimetype": "text/x-python",
   "name": "python",
   "nbconvert_exporter": "python",
   "pygments_lexer": "ipython3",
   "version": "3.11.5"
  }
 },
 "nbformat": 4,
 "nbformat_minor": 4
}
