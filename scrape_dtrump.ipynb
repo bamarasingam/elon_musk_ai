{
 "cells": [
  {
   "cell_type": "code",
   "execution_count": 4,
   "metadata": {},
   "outputs": [],
   "source": [
    "import requests\n",
    "from bs4 import BeautifulSoup\n",
    "\n",
    "# URL of the transcript page\n",
    "url = \"https://turboscribe.ai/transcript/share/4422534834081521519/HWE18owsC2u8E5u2HpZNikyBdermlV2YSwGlTEPKJJw/donald-trump-and-elon-musk-full-transcript-august-12-2024-https-x-com-i-spaces-1nakepnklwoxl\"\n",
    "\n",
    "# Fetch the page content\n",
    "response = requests.get(url)\n",
    "soup = BeautifulSoup(response.text, 'html.parser')\n",
    "\n",
    "# Find all conversation blocks\n",
    "conversation_blocks = soup.find_all(class_='conversation-block')\n",
    "\n",
    "# Extract Elon Musk's parts without timestamps\n",
    "elon_musk_speeches = []\n",
    "for block in conversation_blocks:\n",
    "    speaker = block.find(class_='speaker-name')\n",
    "    if speaker and \"Elon Musk\" in speaker.text:\n",
    "        speech = block.find(class_='speaker-text')\n",
    "        paragraphs = [p.split(')', 1)[-1].strip() for p in speech.text.splitlines() if ')' in p]\n",
    "        elon_musk_speeches.append(\"\\n\".join(paragraphs))\n",
    "\n",
    "# Output the results\n",
    "for i, speech in enumerate(elon_musk_speeches, 1):\n",
    "    print(f\"Elon Musk {i}:\\n{speech}\\n\")\n"
   ]
  },
  {
   "cell_type": "code",
   "execution_count": 5,
   "metadata": {},
   "outputs": [
    {
     "name": "stdout",
     "output_type": "stream",
     "text": [
      "[]\n"
     ]
    }
   ],
   "source": [
    "print(elon_musk_speeches)"
   ]
  },
  {
   "cell_type": "code",
   "execution_count": null,
   "metadata": {},
   "outputs": [],
   "source": []
  }
 ],
 "metadata": {
  "kernelspec": {
   "display_name": "base",
   "language": "python",
   "name": "python3"
  },
  "language_info": {
   "codemirror_mode": {
    "name": "ipython",
    "version": 3
   },
   "file_extension": ".py",
   "mimetype": "text/x-python",
   "name": "python",
   "nbconvert_exporter": "python",
   "pygments_lexer": "ipython3",
   "version": "3.11.4"
  }
 },
 "nbformat": 4,
 "nbformat_minor": 2
}
